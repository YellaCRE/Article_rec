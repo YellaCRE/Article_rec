{
  "nbformat": 4,
  "nbformat_minor": 0,
  "metadata": {
    "colab": {
      "provenance": [],
      "authorship_tag": "ABX9TyM64b0JJqRac9VqyNUAvR+1",
      "include_colab_link": true
    },
    "kernelspec": {
      "name": "python3",
      "display_name": "Python 3"
    },
    "language_info": {
      "name": "python"
    }
  },
  "cells": [
    {
      "cell_type": "markdown",
      "metadata": {
        "id": "view-in-github",
        "colab_type": "text"
      },
      "source": [
        "<a href=\"https://colab.research.google.com/github/YellaCRE/Article_rec/blob/main/%EB%89%B4%EC%8A%A4_%EC%A0%84%EC%B2%98%EB%A6%AC.ipynb\" target=\"_parent\"><img src=\"https://colab.research.google.com/assets/colab-badge.svg\" alt=\"Open In Colab\"/></a>"
      ]
    },
    {
      "cell_type": "code",
      "execution_count": null,
      "metadata": {
        "id": "pgA-hyn6WXWL"
      },
      "outputs": [],
      "source": [
        "def text_preprocessing(text):\n",
        "    #괄호안제거\n",
        "    text = re.sub(r'\\([^)]*\\)' , '', string=text)\n",
        "    text = re.sub(r'\\[[^)]*\\]' , '', string=text)\n",
        "    text = re.sub(r'\\{[^)]*\\}' , '', string=text)\n",
        "    text = re.sub(r'\\≪[^)]*\\≫' , '', string=text)\n",
        "    text = re.sub(r'\\<[^)]*\\>' , '', string=text)\n",
        "\n",
        "    #특정 문자제거\n",
        "    table = str.maketrans('[$%&()*+,-/:;<=>^_{}~@#]©', \"                         \")\n",
        "    text = text.translate(table)\n",
        "\n",
        "    #이메일주소\n",
        "    pattern = '(\\[a-zA-Z0-9\\_.+-]+@\\[a-zA-Z0-9-\\]+.\\[a-zA-Z0-9.\\]+)'\n",
        "    text = re.sub(pattern=pattern, repl=' ', string=text)\n",
        "\n",
        "    #url 제거\n",
        "    pattern_url = '(http|ftp|https)://(?:[-\\w.]|(?:\\[da-fA-F]{2}))+'\n",
        "    text = re.sub(pattern=pattern_url, repl='', string=text)\n",
        "\n",
        "    #\\r, \\n제거하기\n",
        "    text = re.sub('[\\r|\\n]', repl ='', string=text)\n",
        "\n",
        "    #nbsp 반복\n",
        "    text = re.sub(\"nbsp\", \" \", string = text)\n",
        "\n",
        "    #... 제거\n",
        "    text = text.replace('…',' ')\n",
        "    text = text.replace('···',' ')\n",
        "    text = text.replace('..',' ')\n",
        "    \n",
        "    return text"
      ]
    }
  ]
}