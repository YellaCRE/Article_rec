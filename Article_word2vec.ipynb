{
  "nbformat": 4,
  "nbformat_minor": 0,
  "metadata": {
    "colab": {
      "provenance": [],
      "machine_shape": "hm",
      "include_colab_link": true
    },
    "kernelspec": {
      "name": "python3",
      "display_name": "Python 3"
    },
    "language_info": {
      "name": "python"
    }
  },
  "cells": [
    {
      "cell_type": "markdown",
      "metadata": {
        "id": "view-in-github",
        "colab_type": "text"
      },
      "source": [
        "<a href=\"https://colab.research.google.com/github/YellaCRE/Article_rec/blob/main/Article_word2vec.ipynb\" target=\"_parent\"><img src=\"https://colab.research.google.com/assets/colab-badge.svg\" alt=\"Open In Colab\"/></a>"
      ]
    },
    {
      "cell_type": "code",
      "source": [
        "! git clone https://github.com/SOMJANG/Mecab-ko-for-Google-Colab.git\n",
        "%cd Mecab-ko-for-Google-Colab\n",
        "!bash install_mecab-ko_on_colab190912.sh"
      ],
      "metadata": {
        "id": "D1M1diGeqCME"
      },
      "execution_count": null,
      "outputs": []
    },
    {
      "cell_type": "code",
      "execution_count": null,
      "metadata": {
        "colab": {
          "base_uri": "https://localhost:8080/"
        },
        "id": "e3746ATnmj2N",
        "outputId": "6467d2db-ebc9-4980-abb1-ffa19c145d8a"
      },
      "outputs": [
        {
          "output_type": "stream",
          "name": "stdout",
          "text": [
            "Drive already mounted at /content/drive; to attempt to forcibly remount, call drive.mount(\"/content/drive\", force_remount=True).\n"
          ]
        }
      ],
      "source": [
        "from google.colab import drive\n",
        "drive.mount('/content/drive')"
      ]
    },
    {
      "cell_type": "markdown",
      "source": [
        "# 데이터 토크나이저"
      ],
      "metadata": {
        "id": "CG8_fSe4D5XT"
      }
    },
    {
      "cell_type": "code",
      "source": [
        "EMAIL_PATTERN = re.compile(\"(^[a-zA-Z0-9_.+-]+@[a-zA-Z0-9-]+\\.[a-zA-Z0-9-.]+$)\", re.UNICODE)\n",
        "URL_PATTERN = re.compile(\"(ftp|http|https)?://(?:[a-zA-Z]|[0-9]|[$-_@.&+]|[!*\\(\\),]|(?:%[0-9a-fA-F][0-9a-fA-F]))+\", re.UNICODE)\n",
        "pattern_bracket = re.compile(r'^((?:\\[.+\\])|(?:【.+】)|(?:<.+>)|(?:◆.+◆)\\s)', re.UNICODE) # 본문 시작 전 꺽쇠로 쌓인 바이라인 제거\n",
        "TEST = re.compile('-|“|…|,|”|≪|≫|!', re.UNICODE)"
      ],
      "metadata": {
        "id": "cYhE_w5NszHB"
      },
      "execution_count": null,
      "outputs": []
    },
    {
      "cell_type": "code",
      "source": [
        "tokenizer = Mecab()\n",
        "sentences = []"
      ],
      "metadata": {
        "id": "oA_CNJBqm2sn"
      },
      "execution_count": null,
      "outputs": []
    },
    {
      "cell_type": "code",
      "source": [
        "for content in data['title'] :\n",
        "  #content = re.sub(EMAIL_PATTERN, ' ',content)\n",
        "  #content = re.sub(URL_PATTERN, ' ',content)\n",
        "  #content = re.sub(pattern_bracket, ' ',content)\n",
        "  #content = re.sub(EXCEPT, ' ',content)\n",
        "  tokens = tokenizer.morphs(content)\n",
        "  sentences.append(tokens)"
      ],
      "metadata": {
        "id": "Q2PWacPws9iw"
      },
      "execution_count": null,
      "outputs": []
    },
    {
      "cell_type": "markdown",
      "source": [
        "보유데이터로 학습"
      ],
      "metadata": {
        "id": "YNmtqa7pD11K"
      }
    },
    {
      "cell_type": "code",
      "source": [
        "from gensim.models import Word2Vec"
      ],
      "metadata": {
        "id": "J1cJ-GXdzHBJ"
      },
      "execution_count": null,
      "outputs": []
    },
    {
      "cell_type": "code",
      "source": [
        "model = Word2Vec(sentences)"
      ],
      "metadata": {
        "id": "hCsmOoHf5qfc"
      },
      "execution_count": null,
      "outputs": []
    },
    {
      "cell_type": "markdown",
      "source": [
        "#단어벡터평균"
      ],
      "metadata": {
        "id": "jW4WA1o-jVbl"
      }
    },
    {
      "cell_type": "code",
      "source": [
        "def get_document_vectors(document_list, model):\n",
        "    document_embedding_list = []\n",
        "\n",
        "    # 각 문서에 대해서\n",
        "    for line in document_list:\n",
        "        doc2vec = None\n",
        "        count = 0\n",
        "        for word in line.split():\n",
        "            if word in model.wv.vocab:\n",
        "                count += 1\n",
        "                # 해당 문서에 있는 모든 단어들의 벡터값을 더한다.\n",
        "                if doc2vec is None:\n",
        "                    doc2vec = model[word]\n",
        "                else:\n",
        "                    doc2vec = doc2vec + model[word]\n",
        "\n",
        "        if doc2vec is not None:\n",
        "            # 단어 벡터를 모두 더한 벡터의 값을 문서 길이로 나눠준다.\n",
        "            doc2vec = doc2vec / count\n",
        "            document_embedding_list.append(doc2vec)\n",
        "\n",
        "    # 각 문서에 대한 문서 벡터 리스트를 리턴\n",
        "    return document_embedding_list"
      ],
      "metadata": {
        "id": "zkE3Cz4YHIy4"
      },
      "execution_count": null,
      "outputs": []
    },
    {
      "cell_type": "code",
      "source": [
        "target_output = []\n",
        "compared_output = []\n",
        "for i in range(len(test['sentence1'])):\n",
        "  target = get_document_vectors(test['sentence1'][i:i+1],model)\n",
        "  compared = get_document_vectors(test['sentence2'][i:i+1],model)\n",
        "\n",
        "  if target== [] or compared == []:\n",
        "    continue\n",
        "  else:\n",
        "    target_output.append(target)\n",
        "    compared_output.append(compared)"
      ],
      "metadata": {
        "colab": {
          "base_uri": "https://localhost:8080/"
        },
        "id": "fLPAbSMPNt2l",
        "outputId": "7a901729-9c4d-48f2-f595-21c11682d783"
      },
      "execution_count": null,
      "outputs": [
        {
          "output_type": "stream",
          "name": "stderr",
          "text": [
            "/usr/local/lib/python3.7/dist-packages/ipykernel_launcher.py:13: DeprecationWarning: Call to deprecated `__getitem__` (Method will be removed in 4.0.0, use self.wv.__getitem__() instead).\n",
            "  del sys.path[0]\n",
            "/usr/local/lib/python3.7/dist-packages/ipykernel_launcher.py:15: DeprecationWarning: Call to deprecated `__getitem__` (Method will be removed in 4.0.0, use self.wv.__getitem__() instead).\n",
            "  from ipykernel import kernelapp as app\n"
          ]
        }
      ]
    },
    {
      "cell_type": "code",
      "source": [
        "print('target_output 문서 벡터의 수 :',len(target_output))\n",
        "print('compared_output 문서 벡터의 수 :',len(compared_output))"
      ],
      "metadata": {
        "id": "wE8sF5Hjmem9",
        "colab": {
          "base_uri": "https://localhost:8080/"
        },
        "outputId": "97b98a20-3838-45fc-b553-c3c14635066f"
      },
      "execution_count": null,
      "outputs": [
        {
          "output_type": "stream",
          "name": "stdout",
          "text": [
            "target_output 문서 벡터의 수 : 460\n",
            "compared_output 문서 벡터의 수 : 460\n"
          ]
        }
      ]
    },
    {
      "cell_type": "markdown",
      "source": [
        "#코사인유사도"
      ],
      "metadata": {
        "id": "WYkSDrIZW4Xy"
      }
    },
    {
      "cell_type": "code",
      "source": [
        "from sklearn.metrics.pairwise import cosine_similarity\n",
        "import random"
      ],
      "metadata": {
        "id": "twVjP4ZcW3zq"
      },
      "execution_count": null,
      "outputs": []
    },
    {
      "cell_type": "code",
      "source": [
        "cosim=[]\n",
        "for i in range(0,len(target_output)):\n",
        "  cosim.append(cosine_similarity(target_output[i],compared_output[i])[0][0])"
      ],
      "metadata": {
        "id": "VJA7CcV2LQmn"
      },
      "execution_count": null,
      "outputs": []
    },
    {
      "cell_type": "code",
      "source": [
        "y_pred=round(pd.Series(cosim)*5,1)\n",
        "y_test=test['score'][:len(target_output)]\n",
        "y_rand = [random.randint(0,5) for value in range(0,len(target_output))]"
      ],
      "metadata": {
        "id": "vz7KE6lBXFha"
      },
      "execution_count": null,
      "outputs": []
    },
    {
      "cell_type": "code",
      "source": [
        "test['pred_score'] = y_pred\n",
        "test[['pred_score','score','sentence1','sentence2']].head(10)"
      ],
      "metadata": {
        "colab": {
          "base_uri": "https://localhost:8080/",
          "height": 581
        },
        "id": "BojHShLoXSZy",
        "outputId": "42468dd2-2d08-43bb-bcde-253eafd4e68d"
      },
      "execution_count": null,
      "outputs": [
        {
          "output_type": "execute_result",
          "data": {
            "text/plain": [
              "   pred_score  score                                          sentence1  \\\n",
              "0         4.4   1.40  비벤디 주식은 월요일에 3.6퍼센트 하락한 후 파리에서 15.80유로로 1.9% 하...   \n",
              "1         2.2   3.60  브레머는 한 가지 계획이 동네를 청소하고 지역 사회 프로젝트를 구축하기 위해 앞으로...   \n",
              "2         1.3   3.50  그레이 데이비스 주지사는 어제 화재가 거의 20억 달러의 비용이 들 수 있다고 추정했다.   \n",
              "3         3.9   3.20  American Express 회사는 필요한 500만 달러의 금액 보다 최소 300...   \n",
              "4         1.0   4.00  대서양 폭풍 시즌의 첫 번째 허리케인인 클로데트는 7월 15일 85mph의 바람으로...   \n",
              "5         3.9   2.00  미국 2위 청량음료 제조사 펩시코 주식회사의 결과(nyse: pep- news-pe...   \n",
              "6         0.2   3.60  테일러의 보좌관들은 갑작스러운 출발이 더 많은 혼란을 유발할 수 있다고 경고했다. ...   \n",
              "7         2.6   4.20          그러나 오데뜨가 카리브해에서 처음으로 12월에 형성되었다고 센터는 말했다.   \n",
              "8         2.3   4.00          AFL-CIO는 10월까지 후보자를 지지할지 결정하기 위해 기다리고 있다.   \n",
              "9         4.4   3.25  그것은 학계, 산업계, 정부, 그리고 대중의 300명 이상의 지도자들로부터 협의를 ...   \n",
              "\n",
              "                                           sentence2  \n",
              "0                 뉴욕에서는, 비벤디 주식은 18.29달러로 1.4% 하락했다.  \n",
              "1  브레머는 이라크 전역의 이웃들을 청소하고 지역 사회 프로젝트를 건설하기 위해 앞으로...  \n",
              "2                      주 관리들은 그 비용을 거의 20억 달러로 추정했다.  \n",
              "3  시는 연방 기금을 요청했지만, American Express가 최소 300만 달러를...  \n",
              "4  대서양 폭풍 시즌의 첫 번째 허리케인인 클로데트는 7월 15일 텍사스 중부 해안을 ...  \n",
              "5  월스트리트도 알루미늄 제조사인 알코아 주식회사가( nyse : pep - news ...  \n",
              "6  그의 보좌관들은 갑작스러운 출발이 많은 유혈사태를 촉발시킬 수 있다고 경고했는데, ...  \n",
              "7                    12월에 카리브해에서 처음으로 개발된 이름있는 폭풍이다.  \n",
              "8  AFL-CIO는 수요일에 경선 전에 후보를 지지할 것인지 여부를 10월에 결정할 것...  \n",
              "9  NIH 로드맵이라고 불리는 이 계획은 산업계와 학계에서 300명 이상의 컨설턴트의 ...  "
            ],
            "text/html": [
              "\n",
              "  <div id=\"df-97930d79-fdd3-4563-8586-a4985bacc41b\">\n",
              "    <div class=\"colab-df-container\">\n",
              "      <div>\n",
              "<style scoped>\n",
              "    .dataframe tbody tr th:only-of-type {\n",
              "        vertical-align: middle;\n",
              "    }\n",
              "\n",
              "    .dataframe tbody tr th {\n",
              "        vertical-align: top;\n",
              "    }\n",
              "\n",
              "    .dataframe thead th {\n",
              "        text-align: right;\n",
              "    }\n",
              "</style>\n",
              "<table border=\"1\" class=\"dataframe\">\n",
              "  <thead>\n",
              "    <tr style=\"text-align: right;\">\n",
              "      <th></th>\n",
              "      <th>pred_score</th>\n",
              "      <th>score</th>\n",
              "      <th>sentence1</th>\n",
              "      <th>sentence2</th>\n",
              "    </tr>\n",
              "  </thead>\n",
              "  <tbody>\n",
              "    <tr>\n",
              "      <th>0</th>\n",
              "      <td>4.4</td>\n",
              "      <td>1.40</td>\n",
              "      <td>비벤디 주식은 월요일에 3.6퍼센트 하락한 후 파리에서 15.80유로로 1.9% 하...</td>\n",
              "      <td>뉴욕에서는, 비벤디 주식은 18.29달러로 1.4% 하락했다.</td>\n",
              "    </tr>\n",
              "    <tr>\n",
              "      <th>1</th>\n",
              "      <td>2.2</td>\n",
              "      <td>3.60</td>\n",
              "      <td>브레머는 한 가지 계획이 동네를 청소하고 지역 사회 프로젝트를 구축하기 위해 앞으로...</td>\n",
              "      <td>브레머는 이라크 전역의 이웃들을 청소하고 지역 사회 프로젝트를 건설하기 위해 앞으로...</td>\n",
              "    </tr>\n",
              "    <tr>\n",
              "      <th>2</th>\n",
              "      <td>1.3</td>\n",
              "      <td>3.50</td>\n",
              "      <td>그레이 데이비스 주지사는 어제 화재가 거의 20억 달러의 비용이 들 수 있다고 추정했다.</td>\n",
              "      <td>주 관리들은 그 비용을 거의 20억 달러로 추정했다.</td>\n",
              "    </tr>\n",
              "    <tr>\n",
              "      <th>3</th>\n",
              "      <td>3.9</td>\n",
              "      <td>3.20</td>\n",
              "      <td>American Express 회사는 필요한 500만 달러의 금액 보다 최소 300...</td>\n",
              "      <td>시는 연방 기금을 요청했지만, American Express가 최소 300만 달러를...</td>\n",
              "    </tr>\n",
              "    <tr>\n",
              "      <th>4</th>\n",
              "      <td>1.0</td>\n",
              "      <td>4.00</td>\n",
              "      <td>대서양 폭풍 시즌의 첫 번째 허리케인인 클로데트는 7월 15일 85mph의 바람으로...</td>\n",
              "      <td>대서양 폭풍 시즌의 첫 번째 허리케인인 클로데트는 7월 15일 텍사스 중부 해안을 ...</td>\n",
              "    </tr>\n",
              "    <tr>\n",
              "      <th>5</th>\n",
              "      <td>3.9</td>\n",
              "      <td>2.00</td>\n",
              "      <td>미국 2위 청량음료 제조사 펩시코 주식회사의 결과(nyse: pep- news-pe...</td>\n",
              "      <td>월스트리트도 알루미늄 제조사인 알코아 주식회사가( nyse : pep - news ...</td>\n",
              "    </tr>\n",
              "    <tr>\n",
              "      <th>6</th>\n",
              "      <td>0.2</td>\n",
              "      <td>3.60</td>\n",
              "      <td>테일러의 보좌관들은 갑작스러운 출발이 더 많은 혼란을 유발할 수 있다고 경고했다. ...</td>\n",
              "      <td>그의 보좌관들은 갑작스러운 출발이 많은 유혈사태를 촉발시킬 수 있다고 경고했는데, ...</td>\n",
              "    </tr>\n",
              "    <tr>\n",
              "      <th>7</th>\n",
              "      <td>2.6</td>\n",
              "      <td>4.20</td>\n",
              "      <td>그러나 오데뜨가 카리브해에서 처음으로 12월에 형성되었다고 센터는 말했다.</td>\n",
              "      <td>12월에 카리브해에서 처음으로 개발된 이름있는 폭풍이다.</td>\n",
              "    </tr>\n",
              "    <tr>\n",
              "      <th>8</th>\n",
              "      <td>2.3</td>\n",
              "      <td>4.00</td>\n",
              "      <td>AFL-CIO는 10월까지 후보자를 지지할지 결정하기 위해 기다리고 있다.</td>\n",
              "      <td>AFL-CIO는 수요일에 경선 전에 후보를 지지할 것인지 여부를 10월에 결정할 것...</td>\n",
              "    </tr>\n",
              "    <tr>\n",
              "      <th>9</th>\n",
              "      <td>4.4</td>\n",
              "      <td>3.25</td>\n",
              "      <td>그것은 학계, 산업계, 정부, 그리고 대중의 300명 이상의 지도자들로부터 협의를 ...</td>\n",
              "      <td>NIH 로드맵이라고 불리는 이 계획은 산업계와 학계에서 300명 이상의 컨설턴트의 ...</td>\n",
              "    </tr>\n",
              "  </tbody>\n",
              "</table>\n",
              "</div>\n",
              "      <button class=\"colab-df-convert\" onclick=\"convertToInteractive('df-97930d79-fdd3-4563-8586-a4985bacc41b')\"\n",
              "              title=\"Convert this dataframe to an interactive table.\"\n",
              "              style=\"display:none;\">\n",
              "        \n",
              "  <svg xmlns=\"http://www.w3.org/2000/svg\" height=\"24px\"viewBox=\"0 0 24 24\"\n",
              "       width=\"24px\">\n",
              "    <path d=\"M0 0h24v24H0V0z\" fill=\"none\"/>\n",
              "    <path d=\"M18.56 5.44l.94 2.06.94-2.06 2.06-.94-2.06-.94-.94-2.06-.94 2.06-2.06.94zm-11 1L8.5 8.5l.94-2.06 2.06-.94-2.06-.94L8.5 2.5l-.94 2.06-2.06.94zm10 10l.94 2.06.94-2.06 2.06-.94-2.06-.94-.94-2.06-.94 2.06-2.06.94z\"/><path d=\"M17.41 7.96l-1.37-1.37c-.4-.4-.92-.59-1.43-.59-.52 0-1.04.2-1.43.59L10.3 9.45l-7.72 7.72c-.78.78-.78 2.05 0 2.83L4 21.41c.39.39.9.59 1.41.59.51 0 1.02-.2 1.41-.59l7.78-7.78 2.81-2.81c.8-.78.8-2.07 0-2.86zM5.41 20L4 18.59l7.72-7.72 1.47 1.35L5.41 20z\"/>\n",
              "  </svg>\n",
              "      </button>\n",
              "      \n",
              "  <style>\n",
              "    .colab-df-container {\n",
              "      display:flex;\n",
              "      flex-wrap:wrap;\n",
              "      gap: 12px;\n",
              "    }\n",
              "\n",
              "    .colab-df-convert {\n",
              "      background-color: #E8F0FE;\n",
              "      border: none;\n",
              "      border-radius: 50%;\n",
              "      cursor: pointer;\n",
              "      display: none;\n",
              "      fill: #1967D2;\n",
              "      height: 32px;\n",
              "      padding: 0 0 0 0;\n",
              "      width: 32px;\n",
              "    }\n",
              "\n",
              "    .colab-df-convert:hover {\n",
              "      background-color: #E2EBFA;\n",
              "      box-shadow: 0px 1px 2px rgba(60, 64, 67, 0.3), 0px 1px 3px 1px rgba(60, 64, 67, 0.15);\n",
              "      fill: #174EA6;\n",
              "    }\n",
              "\n",
              "    [theme=dark] .colab-df-convert {\n",
              "      background-color: #3B4455;\n",
              "      fill: #D2E3FC;\n",
              "    }\n",
              "\n",
              "    [theme=dark] .colab-df-convert:hover {\n",
              "      background-color: #434B5C;\n",
              "      box-shadow: 0px 1px 3px 1px rgba(0, 0, 0, 0.15);\n",
              "      filter: drop-shadow(0px 1px 2px rgba(0, 0, 0, 0.3));\n",
              "      fill: #FFFFFF;\n",
              "    }\n",
              "  </style>\n",
              "\n",
              "      <script>\n",
              "        const buttonEl =\n",
              "          document.querySelector('#df-97930d79-fdd3-4563-8586-a4985bacc41b button.colab-df-convert');\n",
              "        buttonEl.style.display =\n",
              "          google.colab.kernel.accessAllowed ? 'block' : 'none';\n",
              "\n",
              "        async function convertToInteractive(key) {\n",
              "          const element = document.querySelector('#df-97930d79-fdd3-4563-8586-a4985bacc41b');\n",
              "          const dataTable =\n",
              "            await google.colab.kernel.invokeFunction('convertToInteractive',\n",
              "                                                     [key], {});\n",
              "          if (!dataTable) return;\n",
              "\n",
              "          const docLinkHtml = 'Like what you see? Visit the ' +\n",
              "            '<a target=\"_blank\" href=https://colab.research.google.com/notebooks/data_table.ipynb>data table notebook</a>'\n",
              "            + ' to learn more about interactive tables.';\n",
              "          element.innerHTML = '';\n",
              "          dataTable['output_type'] = 'display_data';\n",
              "          await google.colab.output.renderOutput(dataTable, element);\n",
              "          const docLink = document.createElement('div');\n",
              "          docLink.innerHTML = docLinkHtml;\n",
              "          element.appendChild(docLink);\n",
              "        }\n",
              "      </script>\n",
              "    </div>\n",
              "  </div>\n",
              "  "
            ]
          },
          "metadata": {},
          "execution_count": 21
        }
      ]
    },
    {
      "cell_type": "markdown",
      "source": [
        "#결과지표"
      ],
      "metadata": {
        "id": "DBLnnV32JfaU"
      }
    },
    {
      "cell_type": "code",
      "source": [
        "mean_absolute_error(y_test, y_pred)"
      ],
      "metadata": {
        "colab": {
          "base_uri": "https://localhost:8080/"
        },
        "id": "zKpzqND0RwuZ",
        "outputId": "87b43714-f60e-4a54-e207-0f35307254df"
      },
      "execution_count": null,
      "outputs": [
        {
          "output_type": "execute_result",
          "data": {
            "text/plain": [
              "1.695076093778662"
            ]
          },
          "metadata": {},
          "execution_count": 22
        }
      ]
    },
    {
      "cell_type": "code",
      "source": [
        "np.sqrt(mean_squared_error(y_test, y_pred))"
      ],
      "metadata": {
        "colab": {
          "base_uri": "https://localhost:8080/"
        },
        "id": "0fAZXsYteb2j",
        "outputId": "a11ae5fe-f7eb-4940-a7c9-326fb0ad687b"
      },
      "execution_count": null,
      "outputs": [
        {
          "output_type": "execute_result",
          "data": {
            "text/plain": [
              "2.059009831374267"
            ]
          },
          "metadata": {},
          "execution_count": 23
        }
      ]
    },
    {
      "cell_type": "markdown",
      "source": [
        "마이너스값을 모두 0으로 치환"
      ],
      "metadata": {
        "id": "iuMvVNA8JcBE"
      }
    },
    {
      "cell_type": "code",
      "source": [
        "y_pred_zero = np.where(y_pred < 0, 0, y_pred)"
      ],
      "metadata": {
        "id": "ucGTDTHaumcE"
      },
      "execution_count": null,
      "outputs": []
    },
    {
      "cell_type": "code",
      "source": [
        "mean_absolute_error(y_test, y_pred_zero)"
      ],
      "metadata": {
        "colab": {
          "base_uri": "https://localhost:8080/"
        },
        "id": "RmUVKjfUvCVg",
        "outputId": "2b1c8cd3-30a8-4873-d784-ac7556a07dff"
      },
      "execution_count": null,
      "outputs": [
        {
          "output_type": "execute_result",
          "data": {
            "text/plain": [
              "1.6783369632888099"
            ]
          },
          "metadata": {},
          "execution_count": 25
        }
      ]
    },
    {
      "cell_type": "code",
      "source": [
        "np.sqrt(mean_squared_error(y_test, y_pred_zero))"
      ],
      "metadata": {
        "colab": {
          "base_uri": "https://localhost:8080/"
        },
        "id": "4J_TuK2xvJjB",
        "outputId": "d59abc9e-d569-4488-cb28-d71a346b9717"
      },
      "execution_count": null,
      "outputs": [
        {
          "output_type": "execute_result",
          "data": {
            "text/plain": [
              "2.0304012685743933"
            ]
          },
          "metadata": {},
          "execution_count": 26
        }
      ]
    },
    {
      "cell_type": "markdown",
      "source": [
        "랜덤값과 비교"
      ],
      "metadata": {
        "id": "9mBdziVmQrub"
      }
    },
    {
      "cell_type": "code",
      "source": [
        "mean_absolute_error(y_test, y_rand)"
      ],
      "metadata": {
        "colab": {
          "base_uri": "https://localhost:8080/"
        },
        "id": "fYp-9r9oQraC",
        "outputId": "99fa6710-9ebd-4f28-c51c-f6426f16a882"
      },
      "execution_count": null,
      "outputs": [
        {
          "output_type": "execute_result",
          "data": {
            "text/plain": [
              "1.7099543478260868"
            ]
          },
          "metadata": {},
          "execution_count": 27
        }
      ]
    },
    {
      "cell_type": "code",
      "source": [
        "np.sqrt(mean_squared_error(y_test, y_rand))"
      ],
      "metadata": {
        "colab": {
          "base_uri": "https://localhost:8080/"
        },
        "id": "ogua_k5HQudT",
        "outputId": "ea6ad190-d211-4b46-ca13-5641c0f20d1b"
      },
      "execution_count": null,
      "outputs": [
        {
          "output_type": "execute_result",
          "data": {
            "text/plain": [
              "2.089532126223892"
            ]
          },
          "metadata": {},
          "execution_count": 28
        }
      ]
    },
    {
      "cell_type": "code",
      "source": [
        "pd.DataFrame(cosim).describe()"
      ],
      "metadata": {
        "colab": {
          "base_uri": "https://localhost:8080/",
          "height": 300
        },
        "id": "zIdvJQQUO9ya",
        "outputId": "3f005575-61a9-4cf5-c113-7f3349a66dd1"
      },
      "execution_count": null,
      "outputs": [
        {
          "output_type": "execute_result",
          "data": {
            "text/plain": [
              "                0\n",
              "count  460.000000\n",
              "mean     0.562896\n",
              "std      0.316653\n",
              "min     -0.209214\n",
              "25%      0.301550\n",
              "50%      0.596169\n",
              "75%      0.824175\n",
              "max      1.000000"
            ],
            "text/html": [
              "\n",
              "  <div id=\"df-1ef108f6-ffac-481e-990f-1462ca4f1a23\">\n",
              "    <div class=\"colab-df-container\">\n",
              "      <div>\n",
              "<style scoped>\n",
              "    .dataframe tbody tr th:only-of-type {\n",
              "        vertical-align: middle;\n",
              "    }\n",
              "\n",
              "    .dataframe tbody tr th {\n",
              "        vertical-align: top;\n",
              "    }\n",
              "\n",
              "    .dataframe thead th {\n",
              "        text-align: right;\n",
              "    }\n",
              "</style>\n",
              "<table border=\"1\" class=\"dataframe\">\n",
              "  <thead>\n",
              "    <tr style=\"text-align: right;\">\n",
              "      <th></th>\n",
              "      <th>0</th>\n",
              "    </tr>\n",
              "  </thead>\n",
              "  <tbody>\n",
              "    <tr>\n",
              "      <th>count</th>\n",
              "      <td>460.000000</td>\n",
              "    </tr>\n",
              "    <tr>\n",
              "      <th>mean</th>\n",
              "      <td>0.562896</td>\n",
              "    </tr>\n",
              "    <tr>\n",
              "      <th>std</th>\n",
              "      <td>0.316653</td>\n",
              "    </tr>\n",
              "    <tr>\n",
              "      <th>min</th>\n",
              "      <td>-0.209214</td>\n",
              "    </tr>\n",
              "    <tr>\n",
              "      <th>25%</th>\n",
              "      <td>0.301550</td>\n",
              "    </tr>\n",
              "    <tr>\n",
              "      <th>50%</th>\n",
              "      <td>0.596169</td>\n",
              "    </tr>\n",
              "    <tr>\n",
              "      <th>75%</th>\n",
              "      <td>0.824175</td>\n",
              "    </tr>\n",
              "    <tr>\n",
              "      <th>max</th>\n",
              "      <td>1.000000</td>\n",
              "    </tr>\n",
              "  </tbody>\n",
              "</table>\n",
              "</div>\n",
              "      <button class=\"colab-df-convert\" onclick=\"convertToInteractive('df-1ef108f6-ffac-481e-990f-1462ca4f1a23')\"\n",
              "              title=\"Convert this dataframe to an interactive table.\"\n",
              "              style=\"display:none;\">\n",
              "        \n",
              "  <svg xmlns=\"http://www.w3.org/2000/svg\" height=\"24px\"viewBox=\"0 0 24 24\"\n",
              "       width=\"24px\">\n",
              "    <path d=\"M0 0h24v24H0V0z\" fill=\"none\"/>\n",
              "    <path d=\"M18.56 5.44l.94 2.06.94-2.06 2.06-.94-2.06-.94-.94-2.06-.94 2.06-2.06.94zm-11 1L8.5 8.5l.94-2.06 2.06-.94-2.06-.94L8.5 2.5l-.94 2.06-2.06.94zm10 10l.94 2.06.94-2.06 2.06-.94-2.06-.94-.94-2.06-.94 2.06-2.06.94z\"/><path d=\"M17.41 7.96l-1.37-1.37c-.4-.4-.92-.59-1.43-.59-.52 0-1.04.2-1.43.59L10.3 9.45l-7.72 7.72c-.78.78-.78 2.05 0 2.83L4 21.41c.39.39.9.59 1.41.59.51 0 1.02-.2 1.41-.59l7.78-7.78 2.81-2.81c.8-.78.8-2.07 0-2.86zM5.41 20L4 18.59l7.72-7.72 1.47 1.35L5.41 20z\"/>\n",
              "  </svg>\n",
              "      </button>\n",
              "      \n",
              "  <style>\n",
              "    .colab-df-container {\n",
              "      display:flex;\n",
              "      flex-wrap:wrap;\n",
              "      gap: 12px;\n",
              "    }\n",
              "\n",
              "    .colab-df-convert {\n",
              "      background-color: #E8F0FE;\n",
              "      border: none;\n",
              "      border-radius: 50%;\n",
              "      cursor: pointer;\n",
              "      display: none;\n",
              "      fill: #1967D2;\n",
              "      height: 32px;\n",
              "      padding: 0 0 0 0;\n",
              "      width: 32px;\n",
              "    }\n",
              "\n",
              "    .colab-df-convert:hover {\n",
              "      background-color: #E2EBFA;\n",
              "      box-shadow: 0px 1px 2px rgba(60, 64, 67, 0.3), 0px 1px 3px 1px rgba(60, 64, 67, 0.15);\n",
              "      fill: #174EA6;\n",
              "    }\n",
              "\n",
              "    [theme=dark] .colab-df-convert {\n",
              "      background-color: #3B4455;\n",
              "      fill: #D2E3FC;\n",
              "    }\n",
              "\n",
              "    [theme=dark] .colab-df-convert:hover {\n",
              "      background-color: #434B5C;\n",
              "      box-shadow: 0px 1px 3px 1px rgba(0, 0, 0, 0.15);\n",
              "      filter: drop-shadow(0px 1px 2px rgba(0, 0, 0, 0.3));\n",
              "      fill: #FFFFFF;\n",
              "    }\n",
              "  </style>\n",
              "\n",
              "      <script>\n",
              "        const buttonEl =\n",
              "          document.querySelector('#df-1ef108f6-ffac-481e-990f-1462ca4f1a23 button.colab-df-convert');\n",
              "        buttonEl.style.display =\n",
              "          google.colab.kernel.accessAllowed ? 'block' : 'none';\n",
              "\n",
              "        async function convertToInteractive(key) {\n",
              "          const element = document.querySelector('#df-1ef108f6-ffac-481e-990f-1462ca4f1a23');\n",
              "          const dataTable =\n",
              "            await google.colab.kernel.invokeFunction('convertToInteractive',\n",
              "                                                     [key], {});\n",
              "          if (!dataTable) return;\n",
              "\n",
              "          const docLinkHtml = 'Like what you see? Visit the ' +\n",
              "            '<a target=\"_blank\" href=https://colab.research.google.com/notebooks/data_table.ipynb>data table notebook</a>'\n",
              "            + ' to learn more about interactive tables.';\n",
              "          element.innerHTML = '';\n",
              "          dataTable['output_type'] = 'display_data';\n",
              "          await google.colab.output.renderOutput(dataTable, element);\n",
              "          const docLink = document.createElement('div');\n",
              "          docLink.innerHTML = docLinkHtml;\n",
              "          element.appendChild(docLink);\n",
              "        }\n",
              "      </script>\n",
              "    </div>\n",
              "  </div>\n",
              "  "
            ]
          },
          "metadata": {},
          "execution_count": 29
        }
      ]
    },
    {
      "cell_type": "code",
      "source": [],
      "metadata": {
        "id": "hfYFpsHHPc3M"
      },
      "execution_count": null,
      "outputs": []
    }
  ]
}